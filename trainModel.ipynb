{
 "cells": [
  {
   "cell_type": "code",
   "execution_count": null,
   "id": "initial_id",
   "metadata": {
    "collapsed": true,
    "executionInfo": {
     "elapsed": 19615,
     "status": "ok",
     "timestamp": 1733207992159,
     "user": {
      "displayName": "조항민/AI·소프트웨어학부(인공지능전공)",
      "userId": "08390437929602267244"
     },
     "user_tz": -540
    },
    "id": "initial_id"
   },
   "outputs": [],
   "source": [
    "from torch import nn, optim\n",
    "from torchvision import datasets, transforms, models\n",
    "from torch.utils.data import DataLoader\n",
    "from tqdm import tqdm\n",
    "import torch\n",
    "import time\n",
    "import matplotlib.pyplot as plt"
   ]
  },
  {
   "cell_type": "code",
   "execution_count": null,
   "id": "0993dbd1",
   "metadata": {},
   "outputs": [],
   "source": [
    "BATCHSIZE = 32\n",
    "EPOCH = 8\n",
    "LR = 0.0001\n",
    "new_model_train = True\n",
    "device = \"cuda\" if torch.cuda.is_available() else \"cpu\"\n",
    "criterion = nn.CrossEntropyLoss()\n",
    "model_type = \"PreTrained_ResNet50_SavemodelTest\"\n",
    "dataset = \"dataset\"\n",
    "save_model_path = f\"result/{model_type}{dataset}.pt\"\n",
    "save_history_path = f\"result/{model_type}history{dataset}.pt\""
   ]
  }
 ],
 "metadata": {
  "accelerator": "GPU",
  "colab": {
   "gpuType": "T4",
   "provenance": []
  },
  "kernelspec": {
   "display_name": "Python 3 (ipykernel)",
   "language": "python",
   "name": "python3"
  },
  "language_info": {
   "codemirror_mode": {
    "name": "ipython",
    "version": 2
   },
   "file_extension": ".py",
   "mimetype": "text/x-python",
   "name": "python",
   "nbconvert_exporter": "python",
   "pygments_lexer": "ipython2",
   "version": "2.7.6"
  }
 },
 "nbformat": 4,
 "nbformat_minor": 5
}
