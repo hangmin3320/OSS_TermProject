{
 "cells": [
  {
   "cell_type": "code",
   "execution_count": 1,
   "id": "initial_id",
   "metadata": {
    "ExecuteTime": {
     "end_time": "2024-12-05T04:33:56.654614Z",
     "start_time": "2024-12-05T04:33:54.112564Z"
    },
    "collapsed": true,
    "executionInfo": {
     "elapsed": 19615,
     "status": "ok",
     "timestamp": 1733207992159,
     "user": {
      "displayName": "조항민/AI·소프트웨어학부(인공지능전공)",
      "userId": "08390437929602267244"
     },
     "user_tz": -540
    },
    "id": "initial_id"
   },
   "outputs": [],
   "source": [
    "from torch import nn, optim\n",
    "from torchvision import datasets, transforms, models\n",
    "from torch.utils.data import DataLoader\n",
    "from tqdm import tqdm\n",
    "import torch\n",
    "import time\n",
    "import matplotlib.pyplot as plt"
   ]
  },
  {
   "cell_type": "code",
   "execution_count": 2,
   "id": "0993dbd1",
   "metadata": {
    "ExecuteTime": {
     "end_time": "2024-12-05T04:34:00.069258Z",
     "start_time": "2024-12-05T04:34:00.065148Z"
    }
   },
   "outputs": [],
   "source": [
    "BATCH_SIZE = 32\n",
    "EPOCH = 8\n",
    "LR = 0.0001\n",
    "new_model_train = True\n",
    "device = \"cuda\" if torch.cuda.is_available() else \"cpu\"\n",
    "criterion = nn.CrossEntropyLoss()\n",
    "model_type = \"PreTrained_ResNet50_SavemodelTest\"\n",
    "dataset = \"dataset\"\n",
    "save_model_path = f\"result/{model_type}{dataset}.pt\"\n",
    "save_history_path = f\"result/{model_type}history{dataset}.pt\""
   ]
  },
  {
   "cell_type": "code",
   "execution_count": 3,
   "id": "c0061c95",
   "metadata": {
    "ExecuteTime": {
     "end_time": "2024-12-05T04:34:00.326492Z",
     "start_time": "2024-12-05T04:34:00.319686Z"
    }
   },
   "outputs": [
    {
     "data": {
      "text/plain": [
       "'cpu'"
      ]
     },
     "execution_count": 3,
     "metadata": {},
     "output_type": "execute_result"
    }
   ],
   "source": [
    "device"
   ]
  },
  {
   "cell_type": "code",
   "execution_count": 4,
   "id": "af4d45e9",
   "metadata": {
    "ExecuteTime": {
     "end_time": "2024-12-05T04:34:00.824375Z",
     "start_time": "2024-12-05T04:34:00.800622Z"
    }
   },
   "outputs": [],
   "source": [
    "train_dir = 'dataset/train'\n",
    "valid_dir = 'dataset/valid'\n",
    "test_dir = 'dataset/test'\n",
    "\n",
    "train_transform = transforms.Compose([\n",
    "    transforms.RandomHorizontalFlip(p=0.5),\n",
    "    transforms.ColorJitter(brightness=0.2, contrast=0.2),\n",
    "    transforms.Resize((256, 256)),\n",
    "    transforms.ToTensor(),\n",
    "    transforms.Normalize([0.485, 0.456, 0.406], [0.229, 0.224, 0.225])\n",
    "])\n",
    "\n",
    "valid_transform = transforms.Compose([\n",
    "    transforms.Resize((256, 256)),\n",
    "    transforms.ToTensor(),\n",
    "    transforms.Normalize([0.485, 0.456, 0.406], [0.229, 0.224, 0.225])\n",
    "])\n",
    "\n",
    "test_transform = transforms.Compose([\n",
    "    transforms.Resize((256, 256)),\n",
    "    transforms.ToTensor(),\n",
    "    transforms.Normalize([0.485, 0.456, 0.406], [0.229, 0.224, 0.225])\n",
    "])\n",
    "\n",
    "train_DS = datasets.ImageFolder(train_dir, transform=train_transform)\n",
    "valid_DS = datasets.ImageFolder(valid_dir, transform=valid_transform)\n",
    "test_DS = datasets.ImageFolder(test_dir, transform=test_transform)\n",
    "\n",
    "train_DL = DataLoader(train_DS, batch_size=BATCH_SIZE, shuffle=True)\n",
    "valid_DL = DataLoader(valid_DS, batch_size=BATCH_SIZE, shuffle=True)\n",
    "test_DL = DataLoader(test_DS, batch_size=BATCH_SIZE, shuffle=True)"
   ]
  },
  {
   "cell_type": "code",
   "execution_count": 5,
   "id": "a9f59bd6db00e33",
   "metadata": {
    "ExecuteTime": {
     "end_time": "2024-12-05T04:34:04.092893Z",
     "start_time": "2024-12-05T04:34:04.086551Z"
    }
   },
   "outputs": [],
   "source": [
    "class ResNet(nn.Module):\n",
    "    def __init__(self, num_classes=6):\n",
    "        super().__init__()\n",
    "        self.resnet = models.resnet50(weights=models.ResNet50_Weights.DEFAULT)\n",
    "        self.resnet = nn.Sequential(*list(self.resnet.children())[:-1])\n",
    "\n",
    "        self.classifier = nn.Sequential(\n",
    "            nn.Flatten(),\n",
    "            nn.Linear(2048, 1024),\n",
    "            nn.BatchNorm1d(1024, momentum=0.05),\n",
    "            nn.ReLU(),\n",
    "            nn.Dropout(0.5),\n",
    "            nn.Linear(1024, 512),\n",
    "            nn.BatchNorm1d(512, momentum=0.05),\n",
    "            nn.ReLU(),\n",
    "            nn.Dropout(0.4),\n",
    "            nn.Linear(512, num_classes),\n",
    "        )\n",
    "\n",
    "    def forward(self, x):\n",
    "        x = self.resnet(x)\n",
    "        x = self.classifier(x)\n",
    "        return x"
   ]
  },
  {
   "cell_type": "code",
   "execution_count": null,
   "id": "2e6dfe0a18a5066",
   "metadata": {},
   "outputs": [],
   "source": [
    "def loss_epoch(model, DL, criterion, optimizer = None):\n",
    "    N = len(DL.dataset)\n",
    "    rloss = 0; rcorrect = 0\n",
    "    for x_batch, y_batch in tqdm(DL, leave=False):\n",
    "        x_batch = x_batch.to(device)\n",
    "        y_batch = y_batch.to(device)\n",
    "        y_hat = model(x_batch)\n",
    "        loss = criterion(y_hat, y_batch)\n",
    "        if optimizer is not None:\n",
    "            optimizer.zero_grad()\n",
    "            loss.backward()\n",
    "            optimizer.step()\n",
    "        loss_b = loss.item() * x_batch.shape[0]\n",
    "        rloss += loss_b\n",
    "        pred = torch.argmax(y_hat, dim=1)\n",
    "        corrects_b = torch.sum(pred == y_batch).item()\n",
    "        rcorrect += corrects_b\n",
    "    loss_e = rloss/N\n",
    "    accruracy_e = rcorrect/N * 100\n",
    "    return loss_e, accruracy_e, rcorrect"
   ]
  },
  {
   "cell_type": "code",
   "execution_count": null,
   "id": "748b0530",
   "metadata": {},
   "outputs": [],
   "source": [
    "def Train(model, train_DL, val_DL, criterion, optimizer,\n",
    "          EPOCH, BATCH_SIZE, save_model_path, save_history_path):\n",
    "    loss_history = {\"train\" : [], \"val\":[]}\n",
    "    acc_history = {\"train\" : [], \"val\":[]}\n",
    "    best_loss = 9999\n",
    "    for ep in range(EPOCH):\n",
    "        epoch_start = time.time()\n",
    "        current_lr = optimizer.param_groups[0][\"lr\"]\n",
    "        print(f\"Epoch : {ep+1}, current_LR = {current_lr}\")\n",
    "\n",
    "        model.train()\n",
    "        train_loss, train_acc, _ = loss_epoch(model, train_DL, criterion, optimizer)\n",
    "        loss_history[\"train\"] += [train_loss]\n",
    "        acc_history[\"train\"] += [train_acc]\n",
    "\n",
    "        model.eval()\n",
    "        with torch.no_grad():\n",
    "            val_loss, val_acc, _ = loss_epoch(model, val_DL, criterion)\n",
    "            loss_history[\"val\"] += [val_loss]\n",
    "            acc_history[\"val\"] += [val_acc]\n",
    "\n",
    "            if val_loss < best_loss:\n",
    "                best_loss = val_loss\n",
    "                torch.save({\"model\" : model,\n",
    "                            \"ep\" : ep,\n",
    "                            \"optimizer\" : optimizer}, save_model_path)\n",
    "        print(f\"train loss: {round(train_loss,5)}, \"\n",
    "              f\"val loss: {round(val_loss,5)} \\n\"\n",
    "              f\"train acc: {round(train_acc,1)} %, \"\n",
    "              f\"val acc: {round(val_acc,1)} %, time: {round(time.time()-epoch_start)} s\")\n",
    "        print(\"-\"*20)\n",
    "\n",
    "    torch.save({\"loss_history\" : loss_history,\n",
    "                \"acc_history\" : acc_history,\n",
    "                \"EPOCH\": EPOCH,\n",
    "                \"BATCH_SIZE\": BATCH_SIZE}, save_history_path)\n",
    "\n",
    "    return loss_history"
   ]
  },
  {
   "cell_type": "code",
   "execution_count": null,
   "id": "33504bce",
   "metadata": {},
   "outputs": [],
   "source": [
    "def Test(model, test_DL, criterion):\n",
    "    model.eval()\n",
    "    with torch.no_grad():\n",
    "        test_loss, test_acc, rcorrect = loss_epoch(model, test_DL, criterion)\n",
    "    print()\n",
    "    print(f\"Test loss : {round(test_loss,5)}\")\n",
    "    print(f\"Test accuracy : {rcorrect}/{len(test_DL.dataset)} ({round(test_acc,1)} %)\")\n",
    "    return round(test_acc,1)"
   ]
  },
  {
   "cell_type": "code",
   "execution_count": null,
   "id": "2b299b8f",
   "metadata": {},
   "outputs": [],
   "source": [
    "def Test_plot(model, test_DL):\n",
    "    model.eval()\n",
    "    with torch.no_grad():\n",
    "        x_batch, y_batch = next(iter(test_DL))\n",
    "        x_batch = x_batch.to(device)\n",
    "        y_hat = model(x_batch)\n",
    "        pred = y_hat.argmax(dim=1)\n",
    "\n",
    "    x_batch = x_batch.to(\"cpu\")\n",
    "\n",
    "    plt.figure(figsize=(10,4))\n",
    "    for idx in range(6):\n",
    "        plt.subplot(2,3, idx+1, xticks=[], yticks=[])\n",
    "        plt.imshow(x_batch[idx].permute(1,2,0).squeeze(), cmap=\"gray\")\n",
    "        pred_class = test_DL.dataset.classes[pred[idx]]\n",
    "        true_class = test_DL.dataset.classes[y_batch[idx]]\n",
    "        plt.title(f\"{pred_class} ({true_class})\", color = \"g\" if pred_class == true_class else \"r\")"
   ]
  },
  {
   "cell_type": "code",
   "execution_count": null,
   "id": "ea222f36",
   "metadata": {},
   "outputs": [],
   "source": [
    "if new_model_train:\n",
    "    optimizer = optim.Adam(model.parameters(), lr = LR)\n",
    "    loss_history = Train(model, train_DL, valid_DL, criterion, optimizer, EPOCH,\n",
    "                         BATCH_SIZE, save_model_path, save_history_path)\n",
    "    loss_history = list(loss_history.values())[0]\n",
    "    plt.plot(range(1, EPOCH+1), loss_history)\n",
    "    plt.xlabel('Epoch')\n",
    "    plt.ylabel('loss')\n",
    "    plt.title(\"Train Loss\")\n",
    "    plt.grid()\n",
    "else:\n",
    "    optimizer = optim.Adam(load_model.parameters(), lr = LR)\n",
    "    loss_history = Train(load_model, train_DL, valid_DL, criterion, optimizer, EPOCH,\n",
    "                        BATCH_SIZE, save_model_path, save_history_path)\n",
    "    loss_history = list(loss_history.values())[0]\n",
    "    plt.plot(range(1, EPOCH+1), loss_history)\n",
    "    plt.xlabel('Epoch')\n",
    "    plt.ylabel('loss')\n",
    "    plt.title(\"Train Loss\")\n",
    "    plt.grid()"
   ]
  },
  {
   "cell_type": "code",
   "execution_count": null,
   "id": "d710eef3",
   "metadata": {},
   "outputs": [],
   "source": [
    "load_model = torch.load(save_model_path)[\"model\"]"
   ]
  }
 ],
 "metadata": {
  "accelerator": "GPU",
  "colab": {
   "gpuType": "T4",
   "provenance": []
  },
  "kernelspec": {
   "display_name": "Python 3 (ipykernel)",
   "language": "python",
   "name": "python3"
  },
  "language_info": {
   "codemirror_mode": {
    "name": "ipython",
    "version": 2
   },
   "file_extension": ".py",
   "mimetype": "text/x-python",
   "name": "python",
   "nbconvert_exporter": "python",
   "pygments_lexer": "ipython2",
   "version": "2.7.6"
  }
 },
 "nbformat": 4,
 "nbformat_minor": 5
}
