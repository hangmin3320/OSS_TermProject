{
 "cells": [
  {
   "cell_type": "code",
   "execution_count": null,
   "id": "initial_id",
   "metadata": {
    "collapsed": true,
    "executionInfo": {
     "elapsed": 19615,
     "status": "ok",
     "timestamp": 1733207992159,
     "user": {
      "displayName": "조항민/AI·소프트웨어학부(인공지능전공)",
      "userId": "08390437929602267244"
     },
     "user_tz": -540
    },
    "id": "initial_id"
   },
   "outputs": [],
   "source": [
    "from torch import nn, optim\n",
    "from torchvision import datasets, transforms, models\n",
    "from torch.utils.data import DataLoader\n",
    "from tqdm import tqdm\n",
    "import torch\n",
    "import time\n",
    "import matplotlib.pyplot as plt"
   ]
  },
  {
   "cell_type": "code",
   "execution_count": null,
   "id": "0993dbd1",
   "metadata": {},
   "outputs": [],
   "source": [
    "BATCHSIZE = 32\n",
    "EPOCH = 8\n",
    "LR = 0.0001\n",
    "new_model_train = True\n",
    "device = \"cuda\" if torch.cuda.is_available() else \"cpu\"\n",
    "criterion = nn.CrossEntropyLoss()\n",
    "model_type = \"PreTrained_ResNet50_SavemodelTest\"\n",
    "dataset = \"dataset\"\n",
    "save_model_path = f\"result/{model_type}{dataset}.pt\"\n",
    "save_history_path = f\"result/{model_type}history{dataset}.pt\""
   ]
  },
  {
   "cell_type": "code",
   "execution_count": null,
   "id": "af4d45e9",
   "metadata": {},
   "outputs": [],
   "source": [
    "train_dir = 'dataset/train'\n",
    "valid_dir = 'dataset/valid'\n",
    "test_dir = 'dataset/test'\n",
    "\n",
    "train_transform = transforms.Compose([\n",
    "    transforms.RandomHorizontalFlip(p=0.5),\n",
    "    transforms.ColorJitter(brightness=0.2, contrast=0.2),\n",
    "    transforms.Resize((256, 256)),\n",
    "    transforms.ToTensor(),\n",
    "    transforms.Normalize([0.485, 0.456, 0.406], [0.229, 0.224, 0.225])\n",
    "])\n",
    "\n",
    "valid_transform = transforms.Compose([\n",
    "    transforms.Resize((256, 256)),\n",
    "    transforms.ToTensor(),\n",
    "    transforms.Normalize([0.485, 0.456, 0.406], [0.229, 0.224, 0.225])\n",
    "])\n",
    "\n",
    "test_transform = transforms.Compose([\n",
    "    transforms.Resize((256, 256)),\n",
    "    transforms.ToTensor(),\n",
    "    transforms.Normalize([0.485, 0.456, 0.406], [0.229, 0.224, 0.225])\n",
    "])\n",
    "\n",
    "train_DS = datasets.ImageFolder(train_dir, transform=train_transform)\n",
    "valid_DS = datasets.ImageFolder(valid_dir, transform=valid_transform)\n",
    "test_DS = datasets.ImageFolder(test_dir, transform=test_transform)\n",
    "\n",
    "train_DL = DataLoader(train_DS, batch_size=BATCH_SIZE, shuffle=True)\n",
    "valid_DL = DataLoader(valid_DS, batch_size=BATCH_SIZE, shuffle=True)\n",
    "test_DL = DataLoader(test_DS, batch_size=BATCH_SIZE, shuffle=True)"
   ]
  }
 ],
 "metadata": {
  "accelerator": "GPU",
  "colab": {
   "gpuType": "T4",
   "provenance": []
  },
  "kernelspec": {
   "display_name": "Python 3 (ipykernel)",
   "language": "python",
   "name": "python3"
  },
  "language_info": {
   "codemirror_mode": {
    "name": "ipython",
    "version": 2
   },
   "file_extension": ".py",
   "mimetype": "text/x-python",
   "name": "python",
   "nbconvert_exporter": "python",
   "pygments_lexer": "ipython2",
   "version": "2.7.6"
  }
 },
 "nbformat": 4,
 "nbformat_minor": 5
}
