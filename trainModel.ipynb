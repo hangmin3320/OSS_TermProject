{
 "cells": [
  {
   "cell_type": "code",
   "execution_count": 1,
   "id": "initial_id",
   "metadata": {
    "ExecuteTime": {
     "end_time": "2024-12-05T04:33:56.654614Z",
     "start_time": "2024-12-05T04:33:54.112564Z"
    },
    "collapsed": true,
    "executionInfo": {
     "elapsed": 19615,
     "status": "ok",
     "timestamp": 1733207992159,
     "user": {
      "displayName": "조항민/AI·소프트웨어학부(인공지능전공)",
      "userId": "08390437929602267244"
     },
     "user_tz": -540
    },
    "id": "initial_id"
   },
   "outputs": [],
   "source": [
    "from torch import nn, optim\n",
    "from torchvision import datasets, transforms, models\n",
    "from torch.utils.data import DataLoader\n",
    "from tqdm import tqdm\n",
    "import torch\n",
    "import time\n",
    "import matplotlib.pyplot as plt"
   ]
  },
  {
   "cell_type": "code",
   "execution_count": 2,
   "id": "0993dbd1",
   "metadata": {
    "ExecuteTime": {
     "end_time": "2024-12-05T04:34:00.069258Z",
     "start_time": "2024-12-05T04:34:00.065148Z"
    }
   },
   "outputs": [],
   "source": [
    "BATCH_SIZE = 32\n",
    "EPOCH = 8\n",
    "LR = 0.0001\n",
    "new_model_train = True\n",
    "device = \"cuda\" if torch.cuda.is_available() else \"cpu\"\n",
    "criterion = nn.CrossEntropyLoss()\n",
    "model_type = \"PreTrained_ResNet50_SavemodelTest\"\n",
    "dataset = \"dataset\"\n",
    "save_model_path = f\"result/{model_type}{dataset}.pt\"\n",
    "save_history_path = f\"result/{model_type}history{dataset}.pt\""
   ]
  },
  {
   "cell_type": "code",
   "execution_count": 3,
   "id": "c0061c95",
   "metadata": {
    "ExecuteTime": {
     "end_time": "2024-12-05T04:34:00.326492Z",
     "start_time": "2024-12-05T04:34:00.319686Z"
    }
   },
   "outputs": [
    {
     "data": {
      "text/plain": [
       "'cpu'"
      ]
     },
     "execution_count": 3,
     "metadata": {},
     "output_type": "execute_result"
    }
   ],
   "source": [
    "device"
   ]
  },
  {
   "cell_type": "code",
   "execution_count": 4,
   "id": "af4d45e9",
   "metadata": {
    "ExecuteTime": {
     "end_time": "2024-12-05T04:34:00.824375Z",
     "start_time": "2024-12-05T04:34:00.800622Z"
    }
   },
   "outputs": [],
   "source": [
    "train_dir = 'dataset/train'\n",
    "valid_dir = 'dataset/valid'\n",
    "test_dir = 'dataset/test'\n",
    "\n",
    "train_transform = transforms.Compose([\n",
    "    transforms.RandomHorizontalFlip(p=0.5),\n",
    "    transforms.ColorJitter(brightness=0.2, contrast=0.2),\n",
    "    transforms.Resize((256, 256)),\n",
    "    transforms.ToTensor(),\n",
    "    transforms.Normalize([0.485, 0.456, 0.406], [0.229, 0.224, 0.225])\n",
    "])\n",
    "\n",
    "valid_transform = transforms.Compose([\n",
    "    transforms.Resize((256, 256)),\n",
    "    transforms.ToTensor(),\n",
    "    transforms.Normalize([0.485, 0.456, 0.406], [0.229, 0.224, 0.225])\n",
    "])\n",
    "\n",
    "test_transform = transforms.Compose([\n",
    "    transforms.Resize((256, 256)),\n",
    "    transforms.ToTensor(),\n",
    "    transforms.Normalize([0.485, 0.456, 0.406], [0.229, 0.224, 0.225])\n",
    "])\n",
    "\n",
    "train_DS = datasets.ImageFolder(train_dir, transform=train_transform)\n",
    "valid_DS = datasets.ImageFolder(valid_dir, transform=valid_transform)\n",
    "test_DS = datasets.ImageFolder(test_dir, transform=test_transform)\n",
    "\n",
    "train_DL = DataLoader(train_DS, batch_size=BATCH_SIZE, shuffle=True)\n",
    "valid_DL = DataLoader(valid_DS, batch_size=BATCH_SIZE, shuffle=True)\n",
    "test_DL = DataLoader(test_DS, batch_size=BATCH_SIZE, shuffle=True)"
   ]
  },
  {
   "cell_type": "code",
   "execution_count": 5,
   "id": "a9f59bd6db00e33",
   "metadata": {
    "ExecuteTime": {
     "end_time": "2024-12-05T04:34:04.092893Z",
     "start_time": "2024-12-05T04:34:04.086551Z"
    }
   },
   "outputs": [],
   "source": [
    "class ResNet(nn.Module):\n",
    "    def __init__(self, num_classes=6):\n",
    "        super().__init__()\n",
    "        self.resnet = models.resnet50(weights=models.ResNet50_Weights.DEFAULT)\n",
    "        self.resnet = nn.Sequential(*list(self.resnet.children())[:-1])\n",
    "\n",
    "        self.classifier = nn.Sequential(\n",
    "            nn.Flatten(),\n",
    "            nn.Linear(2048, 1024),\n",
    "            nn.BatchNorm1d(1024, momentum=0.05),\n",
    "            nn.ReLU(),\n",
    "            nn.Dropout(0.5),\n",
    "            nn.Linear(1024, 512),\n",
    "            nn.BatchNorm1d(512, momentum=0.05),\n",
    "            nn.ReLU(),\n",
    "            nn.Dropout(0.4),\n",
    "            nn.Linear(512, num_classes),\n",
    "        )\n",
    "\n",
    "    def forward(self, x):\n",
    "        x = self.resnet(x)\n",
    "        x = self.classifier(x)\n",
    "        return x"
   ]
  },
  {
   "cell_type": "code",
   "execution_count": null,
   "id": "2e6dfe0a18a5066",
   "metadata": {},
   "outputs": [],
   "source": [
    "def loss_epoch(model, DL, criterion, optimizer = None):\n",
    "    N = len(DL.dataset)\n",
    "    rloss = 0; rcorrect = 0\n",
    "    for x_batch, y_batch in tqdm(DL, leave=False):\n",
    "        x_batch = x_batch.to(device)\n",
    "        y_batch = y_batch.to(device)\n",
    "        y_hat = model(x_batch)\n",
    "        loss = criterion(y_hat, y_batch)\n",
    "        if optimizer is not None:\n",
    "            optimizer.zero_grad()\n",
    "            loss.backward()\n",
    "            optimizer.step()\n",
    "        loss_b = loss.item() * x_batch.shape[0]\n",
    "        rloss += loss_b\n",
    "        pred = torch.argmax(y_hat, dim=1)\n",
    "        corrects_b = torch.sum(pred == y_batch).item()\n",
    "        rcorrect += corrects_b\n",
    "    loss_e = rloss/N\n",
    "    accruracy_e = rcorrect/N * 100\n",
    "    return loss_e, accruracy_e, rcorrect"
   ]
  }
 ],
 "metadata": {
  "accelerator": "GPU",
  "colab": {
   "gpuType": "T4",
   "provenance": []
  },
  "kernelspec": {
   "display_name": "Python 3 (ipykernel)",
   "language": "python",
   "name": "python3"
  },
  "language_info": {
   "codemirror_mode": {
    "name": "ipython",
    "version": 2
   },
   "file_extension": ".py",
   "mimetype": "text/x-python",
   "name": "python",
   "nbconvert_exporter": "python",
   "pygments_lexer": "ipython2",
   "version": "2.7.6"
  }
 },
 "nbformat": 4,
 "nbformat_minor": 5
}
