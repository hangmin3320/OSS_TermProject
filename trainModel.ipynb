{
 "cells": [
  {
   "cell_type": "code",
   "id": "initial_id",
   "metadata": {
    "collapsed": true,
    "executionInfo": {
     "elapsed": 19615,
     "status": "ok",
     "timestamp": 1733207992159,
     "user": {
      "displayName": "조항민/AI·소프트웨어학부(인공지능전공)",
      "userId": "08390437929602267244"
     },
     "user_tz": -540
    },
    "id": "initial_id",
    "ExecuteTime": {
     "end_time": "2024-12-04T06:50:18.058192Z",
     "start_time": "2024-12-04T06:50:15.466648Z"
    }
   },
   "source": [
    "from torch import nn, optim\n",
    "from torchvision import datasets, transforms, models\n",
    "from torch.utils.data import DataLoader\n",
    "from tqdm import tqdm\n",
    "import torch\n",
    "import time\n",
    "import matplotlib.pyplot as plt"
   ],
   "outputs": [],
   "execution_count": 1
  },
  {
   "cell_type": "code",
   "id": "0993dbd1",
   "metadata": {
    "ExecuteTime": {
     "end_time": "2024-12-04T06:50:30.136727Z",
     "start_time": "2024-12-04T06:50:30.115585Z"
    }
   },
   "source": [
    "BATCH_SIZE = 32\n",
    "EPOCH = 8\n",
    "LR = 0.0001\n",
    "new_model_train = True\n",
    "device = \"cuda\" if torch.cuda.is_available() else \"cpu\"\n",
    "criterion = nn.CrossEntropyLoss()\n",
    "model_type = \"PreTrained_ResNet50_SavemodelTest\"\n",
    "dataset = \"dataset\"\n",
    "save_model_path = f\"result/{model_type}{dataset}.pt\"\n",
    "save_history_path = f\"result/{model_type}history{dataset}.pt\""
   ],
   "outputs": [],
   "execution_count": 5
  },
  {
   "cell_type": "code",
   "id": "c0061c95",
   "metadata": {
    "ExecuteTime": {
     "end_time": "2024-12-04T06:50:20.688761Z",
     "start_time": "2024-12-04T06:50:20.680831Z"
    }
   },
   "source": [
    "device"
   ],
   "outputs": [
    {
     "data": {
      "text/plain": [
       "'cpu'"
      ]
     },
     "execution_count": 3,
     "metadata": {},
     "output_type": "execute_result"
    }
   ],
   "execution_count": 3
  },
  {
   "cell_type": "code",
   "id": "af4d45e9",
   "metadata": {
    "ExecuteTime": {
     "end_time": "2024-12-04T06:50:22.239820Z",
     "start_time": "2024-12-04T06:50:21.593054Z"
    }
   },
   "source": [
    "train_dir = 'dataset/train'\n",
    "valid_dir = 'dataset/valid'\n",
    "test_dir = 'dataset/test'\n",
    "\n",
    "train_transform = transforms.Compose([\n",
    "    transforms.RandomHorizontalFlip(p=0.5),\n",
    "    transforms.ColorJitter(brightness=0.2, contrast=0.2),\n",
    "    transforms.Resize((256, 256)),\n",
    "    transforms.ToTensor(),\n",
    "    transforms.Normalize([0.485, 0.456, 0.406], [0.229, 0.224, 0.225])\n",
    "])\n",
    "\n",
    "valid_transform = transforms.Compose([\n",
    "    transforms.Resize((256, 256)),\n",
    "    transforms.ToTensor(),\n",
    "    transforms.Normalize([0.485, 0.456, 0.406], [0.229, 0.224, 0.225])\n",
    "])\n",
    "\n",
    "test_transform = transforms.Compose([\n",
    "    transforms.Resize((256, 256)),\n",
    "    transforms.ToTensor(),\n",
    "    transforms.Normalize([0.485, 0.456, 0.406], [0.229, 0.224, 0.225])\n",
    "])\n",
    "\n",
    "train_DS = datasets.ImageFolder(train_dir, transform=train_transform)\n",
    "valid_DS = datasets.ImageFolder(valid_dir, transform=valid_transform)\n",
    "test_DS = datasets.ImageFolder(test_dir, transform=test_transform)\n",
    "\n",
    "train_DL = DataLoader(train_DS, batch_size=BATCH_SIZE, shuffle=True)\n",
    "valid_DL = DataLoader(valid_DS, batch_size=BATCH_SIZE, shuffle=True)\n",
    "test_DL = DataLoader(test_DS, batch_size=BATCH_SIZE, shuffle=True)"
   ],
   "outputs": [
    {
     "ename": "NameError",
     "evalue": "name 'BATCH_SIZE' is not defined",
     "output_type": "error",
     "traceback": [
      "\u001B[0;31m---------------------------------------------------------------------------\u001B[0m",
      "\u001B[0;31mNameError\u001B[0m                                 Traceback (most recent call last)",
      "Cell \u001B[0;32mIn[4], line 29\u001B[0m\n\u001B[1;32m     26\u001B[0m valid_DS \u001B[38;5;241m=\u001B[39m datasets\u001B[38;5;241m.\u001B[39mImageFolder(valid_dir, transform\u001B[38;5;241m=\u001B[39mvalid_transform)\n\u001B[1;32m     27\u001B[0m test_DS \u001B[38;5;241m=\u001B[39m datasets\u001B[38;5;241m.\u001B[39mImageFolder(test_dir, transform\u001B[38;5;241m=\u001B[39mtest_transform)\n\u001B[0;32m---> 29\u001B[0m train_DL \u001B[38;5;241m=\u001B[39m DataLoader(train_DS, batch_size\u001B[38;5;241m=\u001B[39m\u001B[43mBATCH_SIZE\u001B[49m, shuffle\u001B[38;5;241m=\u001B[39m\u001B[38;5;28;01mTrue\u001B[39;00m)\n\u001B[1;32m     30\u001B[0m valid_DL \u001B[38;5;241m=\u001B[39m DataLoader(valid_DS, batch_size\u001B[38;5;241m=\u001B[39mBATCH_SIZE, shuffle\u001B[38;5;241m=\u001B[39m\u001B[38;5;28;01mTrue\u001B[39;00m)\n\u001B[1;32m     31\u001B[0m test_DL \u001B[38;5;241m=\u001B[39m DataLoader(test_DS, batch_size\u001B[38;5;241m=\u001B[39mBATCH_SIZE, shuffle\u001B[38;5;241m=\u001B[39m\u001B[38;5;28;01mTrue\u001B[39;00m)\n",
      "\u001B[0;31mNameError\u001B[0m: name 'BATCH_SIZE' is not defined"
     ]
    }
   ],
   "execution_count": 4
  },
  {
   "metadata": {},
   "cell_type": "code",
   "outputs": [],
   "execution_count": null,
   "source": "",
   "id": "a9f59bd6db00e33"
  }
 ],
 "metadata": {
  "accelerator": "GPU",
  "colab": {
   "gpuType": "T4",
   "provenance": []
  },
  "kernelspec": {
   "display_name": "Python 3 (ipykernel)",
   "language": "python",
   "name": "python3"
  },
  "language_info": {
   "codemirror_mode": {
    "name": "ipython",
    "version": 2
   },
   "file_extension": ".py",
   "mimetype": "text/x-python",
   "name": "python",
   "nbconvert_exporter": "python",
   "pygments_lexer": "ipython2",
   "version": "2.7.6"
  }
 },
 "nbformat": 4,
 "nbformat_minor": 5
}
